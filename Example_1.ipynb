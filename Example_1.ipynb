{
  "nbformat": 4,
  "nbformat_minor": 0,
  "metadata": {
    "colab": {
      "name": "Example-1.ipynb",
      "provenance": [],
      "mount_file_id": "1dIwp1RAd1eI0D-sAcEY5drGs-iUxjYqh",
      "authorship_tag": "ABX9TyP+aHW8uhNk8+50o7zDcaI+",
      "include_colab_link": true
    },
    "kernelspec": {
      "name": "python3",
      "display_name": "Python 3"
    }
  },
  "cells": [
    {
      "cell_type": "markdown",
      "metadata": {
        "id": "view-in-github",
        "colab_type": "text"
      },
      "source": [
        "<a href=\"https://colab.research.google.com/github/sendous/ColorThief/blob/master/Example_1.ipynb\" target=\"_parent\"><img src=\"https://colab.research.google.com/assets/colab-badge.svg\" alt=\"Open In Colab\"/></a>"
      ]
    },
    {
      "cell_type": "code",
      "metadata": {
        "id": "BiGo3p1MlxwB"
      },
      "source": [
        "import cv2\r\n",
        "import sys\r\n",
        "\r\n",
        "#Get user supplied values\r\n",
        "imagePath = sys.argv[1]\r\n",
        "cascPath = sys.argv[2]\r\n"
      ],
      "execution_count": 3,
      "outputs": []
    }
  ]
}