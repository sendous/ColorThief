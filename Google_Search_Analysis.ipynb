import pandas as pd
from pytrends.request import TrendReq
import matplotlib.pyplot as plt
trends = TrendReq()

kw_list = [input("Enter Words")]
trends.build_payload(kw_list, timeframe='all', geo='IR')
data = trends.interest_by_region()
data = data.sort_values(by = kw_list, ascending = False)
data = data.head(10)
print(data)
